{
 "cells": [
  {
   "cell_type": "code",
   "execution_count": null,
   "id": "782404f2",
   "metadata": {},
   "outputs": [],
   "source": [
    "import pandas as pd\n",
    "import re\n",
    "from selenium import webdriver\n",
    "from selenium.webdriver.common.keys import Keys"
   ]
  },
  {
   "cell_type": "code",
   "execution_count": null,
   "id": "6eee333e",
   "metadata": {},
   "outputs": [],
   "source": [
    "browser = webdriver.Chrome(r\"...\\chromedriver.exe\")\n",
    "browser.get(\"https://www.careerguide.com/career-options\")"
   ]
  },
  {
   "cell_type": "code",
   "execution_count": null,
   "id": "a91f4985",
   "metadata": {},
   "outputs": [],
   "source": [
    "categories = browser.find_elements_by_class_name(\"c-font-bold\")\n",
    "category_list = []\n",
    "for category in range(1,len(categories)-12):\n",
    "    category_list.append(categories[category].text)\n",
    "print(category_list)"
   ]
  },
  {
   "cell_type": "code",
   "execution_count": null,
   "id": "6f0cb538",
   "metadata": {},
   "outputs": [],
   "source": [
    "sub_categories = browser.find_elements_by_class_name(\"c-content-list-1\")\n",
    "sub_category_list = []\n",
    "for sub_category in sub_categories:\n",
    "    sub_category_list.append(sub_category.text.replace(\"\\n\",\",\").split(\",\"))\n",
    "print(sub_category_list)"
   ]
  },
  {
   "cell_type": "code",
   "execution_count": null,
   "id": "30359845",
   "metadata": {},
   "outputs": [],
   "source": [
    "browser = webdriver.Chrome(r\"...\\chromedriver.exe\")\n",
    "browser.get(\"https://www.linkedin.com\")"
   ]
  },
  {
   "cell_type": "code",
   "execution_count": null,
   "id": "31fab99e",
   "metadata": {},
   "outputs": [],
   "source": [
    "username = browser.find_element_by_id(\"session_key\")\n",
    "username.send_keys(\"...@gmail.com\")\n",
    "password = browser.find_element_by_id(\"session_password\")\n",
    "password.send_keys(\"...\")"
   ]
  },
  {
   "cell_type": "code",
   "execution_count": null,
   "id": "26d11441",
   "metadata": {},
   "outputs": [],
   "source": [
    "login_button = browser.find_element_by_class_name(\"sign-in-form__submit-button\")\n",
    "login_button.click()"
   ]
  },
  {
   "cell_type": "code",
   "execution_count": null,
   "id": "dd071087",
   "metadata": {},
   "outputs": [],
   "source": [
    "browser.get(\"https://www.linkedin.com/jobs/search\")"
   ]
  },
  {
   "cell_type": "code",
   "execution_count": null,
   "id": "1b355d98",
   "metadata": {},
   "outputs": [],
   "source": [
    "search_jobs = browser.find_element_by_id(\"jobs-search-box-keyword-id-ember31\")\n",
    "search_jobs_by_location = browser.find_element_by_id(\"jobs-search-box-location-id-ember31\")\n",
    "search_jobs.send_keys(category_list[0])\n",
    "search_button = browser.find_element_by_class_name(\"jobs-search-box__submit-button\")\n",
    "search_button.click()"
   ]
  },
  {
   "cell_type": "code",
   "execution_count": null,
   "id": "3f3789bb",
   "metadata": {},
   "outputs": [],
   "source": [
    "searched_jobs = browser.find_elements_by_class_name(\"full-width.artdeco-entity-lockup__title.ember-view\")\n",
    "company_job1 = []\n",
    "for i in searched_jobs:\n",
    "    company_job1.append(i.text)\n",
    "search_jobs.clear()\n",
    "search_jobs_by_location.clear()\n",
    "print('Job Category:',category_list[0])"
   ]
  },
  {
   "cell_type": "code",
   "execution_count": null,
   "id": "d45bfaea",
   "metadata": {},
   "outputs": [],
   "source": [
    "print('{0}\\n\\nNumber of Jobs: {1}'.format(company_job1, len(company_job1)))"
   ]
  },
  {
   "cell_type": "code",
   "execution_count": null,
   "id": "af11a46c",
   "metadata": {},
   "outputs": [],
   "source": [
    "location = browser.find_elements_by_class_name(\"job-card-container__metadata-item\")\n",
    "location_name = []\n",
    "for i in range(len(location)):\n",
    "    location_name.append(location[i].text)\n",
    "\n",
    "for y in location_name:\n",
    "    if y == 'Remote' or y == 'On-site' or y == 'Hybrid':\n",
    "        location_name.remove(y)\n",
    "state_name = []\n",
    "for i in location_name:\n",
    "    loc = i.split(\",\")[1:-1]\n",
    "    for q in loc:\n",
    "        state_name.append(q[1:])\n",
    "\n",
    "print('{0}\\n\\nNumber of state searches: {1}'.format(state_name, len(state_name)))"
   ]
  },
  {
   "cell_type": "code",
   "execution_count": null,
   "id": "52a5f38f",
   "metadata": {},
   "outputs": [],
   "source": [
    "search_jobs_by_subcategory = browser.find_element_by_id(\"jobs-search-box-keyword-id-ember31\")\n",
    "search_jobs_by_subcategory.send_keys(sub_category_list[0][1])\n",
    "search_jobs_by_state = browser.find_element_by_id(\"jobs-search-box-location-id-ember31\")\n",
    "search_jobs_by_state.send_keys(state_name[0])\n",
    "search_button = browser.find_element_by_class_name(\"jobs-search-box__submit-button\")\n",
    "search_button.click()\n",
    "search_jobs_by_subcategory.clear()\n",
    "search_jobs_by_state.clear()\n"
   ]
  },
  {
   "cell_type": "code",
   "execution_count": null,
   "id": "c4796442",
   "metadata": {},
   "outputs": [],
   "source": [
    "company_offering_job = browser.find_elements_by_class_name(\"job-card-container__metadata-item.job-card-container__metadata-item--workplace-type\")\n",
    "company_offering_job_list = []\n",
    "for i in company_offering_job:\n",
    "    company_offering_job_list.append(i.text)\n",
    "    \n",
    "print('{0}\\n\\nCount of companies offering jobs at: {1}'.format(company_offering_job_list, len(company_offering_job_list)))"
   ]
  },
  {
   "cell_type": "code",
   "execution_count": null,
   "id": "8965014a",
   "metadata": {},
   "outputs": [],
   "source": [
    "company = browser.find_elements_by_class_name(\"job-card-container__company-name\")\n",
    "company_name = []\n",
    "for i in company:\n",
    "    company_name.append(i.text)\n",
    "\n",
    "print('{0}\\n\\nNumber of companies: {1}'.format(company_name, len(company)))"
   ]
  },
  {
   "cell_type": "code",
   "execution_count": null,
   "id": "c4759183",
   "metadata": {},
   "outputs": [],
   "source": [
    "location = browser.find_elements_by_class_name(\"job-card-container__metadata-item\")\n",
    "location_name = []\n",
    "for i in range(len(location)):\n",
    "    location_name.append(location[i].text)\n",
    "\n",
    "for y in location_name:\n",
    "    if y == 'Remote' or y == 'On-site' or y == 'Hybrid':\n",
    "        location_name.remove(y)\n",
    "\n",
    "print('{0}\\n\\nNumber of locations: {1}'.format(location_name, len(location_name)))"
   ]
  },
  {
   "cell_type": "code",
   "execution_count": null,
   "id": "35d50a4f",
   "metadata": {},
   "outputs": [],
   "source": [
    "job_disc = browser.find_elements_by_class_name(\"jobs-description-content__text--stretch\")\n",
    "discription = []\n",
    "for i in job_disc:\n",
    "    discription.append(i.text)\n",
    "for j in discription:\n",
    "    print(j)"
   ]
  },
  {
   "cell_type": "code",
   "execution_count": null,
   "id": "45300fee",
   "metadata": {},
   "outputs": [],
   "source": [
    "comp_page = browser.find_element_by_class_name(\"ember-view.t-black.t-normal\")\n",
    "comp_page.click()"
   ]
  },
  {
   "cell_type": "code",
   "execution_count": null,
   "id": "81298d89",
   "metadata": {},
   "outputs": [],
   "source": [
    "company_page_about = browser.find_elements_by_class_name(\"org-page-navigation__item.m0\")\n",
    "company_page_about[1].click()"
   ]
  },
  {
   "cell_type": "code",
   "execution_count": null,
   "id": "cf25da1e",
   "metadata": {},
   "outputs": [],
   "source": [
    "company_discription = browser.find_element_by_class_name(\"break-words.white-space-pre-wrap.mb5.text-body-small.t-black--light\")\n",
    "company_discription_list = []\n",
    "company_discription_list.append(company_discription.text)\n",
    "for i in company_discription_list:\n",
    "    print(i)"
   ]
  },
  {
   "cell_type": "code",
   "execution_count": null,
   "id": "afd0d7ae",
   "metadata": {},
   "outputs": [],
   "source": [
    "employee = browser.find_element_by_class_name(\"text-body-small.t-black--light.mb1\")\n",
    "employee_list = []\n",
    "employee_list.append(employee.text)\n",
    "print(employee_list)"
   ]
  },
  {
   "cell_type": "code",
   "execution_count": null,
   "id": "b7baea33",
   "metadata": {},
   "outputs": [],
   "source": [
    "company_location = browser.find_elements_by_class_name(\"t-14.t-black--light.t-bold.mr1.mt1\")\n",
    "company_location_list = []\n",
    "for i in company_location:\n",
    "    company_location_list.append(i.text)\n",
    "print(company_location_list)"
   ]
  },
  {
   "cell_type": "code",
   "execution_count": null,
   "id": "a24e491e",
   "metadata": {},
   "outputs": [],
   "source": [
    "col1 = [\"Categories\", \"Sub Categories\", ]\n",
    "df1 = pd.DataFrame()\n",
    "dict = {}\n",
    "Catagories = category_list\n",
    "Sub_Catagories = sub_category_list\n",
    "for i in range(len(Catagories)):\n",
    "    for x in range(len(Catagories)):\n",
    "        dict[Catagories[i]] = Sub_Catagories[i][0:]\n",
    "\n",
    "df1.append(dict, ignore_index=\"True\")"
   ]
  },
  {
   "cell_type": "code",
   "execution_count": null,
   "id": "aec1bf61",
   "metadata": {},
   "outputs": [],
   "source": [
    "df1.head()"
   ]
  },
  {
   "cell_type": "code",
   "execution_count": null,
   "id": "a654cb9e",
   "metadata": {},
   "outputs": [],
   "source": [
    "col2 = [\"Sub Categories\", \"Job Positions\", \"Company Offering Job\", \"Company_Name\", \"Location Name\"]\n",
    "df2 = pd.DataFrame({\"Sub Catagories\":sub_category_list[0][0],\"Job Positions\":company_job1[:5], \"Company Offering Job\":company_offering_job_list[:5], \"Company_Name\":company_name[:5],  \"Location Name\":location_name[:5]})"
   ]
  },
  {
   "cell_type": "code",
   "execution_count": null,
   "id": "d2e1d7bd",
   "metadata": {},
   "outputs": [],
   "source": [
    "df2.head()"
   ]
  },
  {
   "cell_type": "code",
   "execution_count": null,
   "id": "f0f4d9b4",
   "metadata": {},
   "outputs": [],
   "source": [
    "col3 = [\"Categories\", \"Job Positions\", \"Company Offering Job\", \"Company_Name\", \"Location Name\", \"Job Discription\", \"Company Discription\", \"Employee List\", \"Company Location List\"]\n",
    "df3 = pd.DataFrame({\"Catagories\":category_list[:1], \"Job Positions\":company_job1[:1], \"Company Offering Job\":company_offering_job_list[:1], \"Company_Name\":company_name[:1], \"Location Name\":location_name[:1], \"State\":state_name[:1], \"Job Discription\":discription[:1], \"Company Discription\":company_discription_list[:1], \"Employee\":employee_list[:1], \"Company Location\":company_location_list[:1]})"
   ]
  },
  {
   "cell_type": "code",
   "execution_count": null,
   "id": "55b2a65d",
   "metadata": {},
   "outputs": [],
   "source": [
    "df3.head()"
   ]
  },
  {
   "cell_type": "code",
   "execution_count": null,
   "id": "b6a1fa26",
   "metadata": {},
   "outputs": [],
   "source": [
    "df1.to_csv(\"Catagories_and_Sub_Categories.csv\")\n",
    "df2.to_csv(\"Particular_Sub_Categary.csv\")\n",
    "df3.to_csv(\"Particular_Job_and_its_details.csv\")"
   ]
  },
  {
   "cell_type": "code",
   "execution_count": null,
   "id": "910e96e4",
   "metadata": {},
   "outputs": [],
   "source": [
    "import mysql.connector\n",
    "from mysql import *\n",
    "def DataframeToSql1(dataframe):\n",
    "    conn = mysql.connector.connect(host=\"localhost\", user=\"root\", password=\"subho\", database=\"web_scraping\", charset=\"utf8\")\n",
    "    cur = conn.cursor()\n",
    "    conn.commit()\n",
    "    for (row,rs) in dataframe.iterrows():\n",
    "        Aerospace_and_Aviation = rs[0]\n",
    "        Agriculture = rs[1]\n",
    "        Automobile_or_Autocomponents = rs[2]\n",
    "        Banking_or_Insurance_and_Finance = rs[3]\n",
    "        Beauty_and_Wellness_Industry = rs[4]\n",
    "        Building_and_Construction = rs[5]\n",
    "        Building_or_Hardware_and_Home_Furnishings= rs[6]\n",
    "        Chemicals_and_Pharmaceuticals= rs[7]\n",
    "        Commerce_or_Humanities_Stream= rs[8]\n",
    "        Defense_and_Military= rs[9]\n",
    "        Designing_and_Art= rs[10]\n",
    "        Education_or_skill_Development= rs[11]\n",
    "        Electronics_and_Hardware= rs[12]\n",
    "        Emergency_Services= rs[13]\n",
    "        Engineering_and_Technology= rs[14]\n",
    "        Exams_and_Syllabus= rs[15]\n",
    "        Food_Processing= rs[16]\n",
    "        Gems_and_Jewellery= rs[17]\n",
    "        Handlooms_and_Handicrafts= rs[18]\n",
    "        Healthcare= rs[19]\n",
    "        Humanistic_Studies= rs[20]\n",
    "        Information_Technology_or_Software= rs[21]\n",
    "        Institutes_in_India= rs[22]\n",
    "        ITES_or_BPO= rs[23]\n",
    "        Law_and_Order= rs[24]\n",
    "        Leather_and_Leather_Goods= rs[25]\n",
    "        Management_and_Marketing= rs[26]\n",
    "        Media_or_Entertainment_and_Animation= rs[27]\n",
    "        Organised_Retail= rs[28]\n",
    "        Psychometric_Career_Test= rs[29]\n",
    "        Public_Admin_and_Government= rs[30]\n",
    "        Real_Estate= rs[31]\n",
    "        Science_and_Research= rs[32]\n",
    "        Sports= rs[33]\n",
    "        Study_Abroad= rs[34]\n",
    "        Telecom= rs[35]\n",
    "        Textiles_and_Garments= rs[36]\n",
    "        Tourism_or_Hospitality_and_Travel= rs[37]\n",
    "        Transportation_or_Logistics_or_Warehousing_and_Packaging= rs[38]\n",
    "        query = \"insert into Catagories_and_Sub_Categories values(\"+Aerospace_and_Aviation+\",\"+Agriculture+\",\"+Automobile_or_Autocomponents+\",\"+Banking_or_Insurance_and_Finance+\",\"+Beauty_and_Wellness_Industry+\",\"+Building_and_Construction+\",\"+Building_or_Hardware_and_Home_Furnishings+\",\"+Chemicals_and_Pharmaceuticals+\",\"+Commerce_or_Humanities_Stream+\",\"+Defense_and_Military+\",\"+Designing_and_Art+\",\"+Education_or_skill_Development+\",\"+Electronics_and_Hardware+\",\"+Emergency_Services+\",\"+Engineering_and_Technology+\",\"+Exams_and_Syllabus+\",\"+Food_Processing+\",\"+Gems_and_Jewellery+\",\"+Handlooms_and_Handicrafts+\",\"+Healthcare+\",\"+Humanistic_Studies+\",\"+Information_Technology_or_Software+\",\"+Institutes_in_India+\",\"+ITES_or_BPO+\",\"+Law_and_Order+\",\"+Leather_and_Leather_Goods+\",\"+Management_and_Marketing+\",\"+Media_or_Entertainment_and_Animation+\",\"+Organised_Retail+\",\"+Psychometric_Career_Test+\",\"+Public_Admin_and_Government+\",\"+Real_Estate+\",\"+Science_and_Research+\",\"+Sports+\",\"+Study_Abroad+\",\"+Telecom+\",\"+Textiles_and_Garments+\",\"+Tourism_or_Hospitality_and_Travel+\",\"+Transportation_or_Logistics_or_Warehousing_and_Packaging+\")\"\n",
    "    cur.close()\n",
    "    if conn.is_connected():\n",
    "        conn.close()\n",
    "\n",
    "dataframe = pd.read_csv(\"Catagories_and_Sub_Categories.csv\")\n",
    "DataframeToSql1(dataframe)\n",
    "print(\"successful\")"
   ]
  },
  {
   "cell_type": "code",
   "execution_count": null,
   "id": "749aab0f",
   "metadata": {},
   "outputs": [],
   "source": [
    "def DataframeToSql2(dataframe1):\n",
    "    conn = mysql.connector.connect(host=\"localhost\", user=\"root\", password=\"subho\", database=\"web_scraping\", charset=\"utf8\")\n",
    "    cur = conn.cursor()\n",
    "    conn.commit() \n",
    "    for (row,rs) in dataframe1.iterrows():\n",
    "        Sub_Catagories = rs[0]\n",
    "        Job_Positions = rs[1]\n",
    "        Company_Offering_Job = rs[2]\n",
    "        Company_Name = rs[3]\n",
    "        State = rs[4]\n",
    "        Location_Name = rs[5]\n",
    "        query = \"insert into Particular_Sub_Categary values(\"+Sub_Catagories+\",\"+Job_Positions+\",\"+Company_Offering_Job+\",\"+Company_Name+\",\"+State+\",\"+Location_Name+\")\"\n",
    "        cur.execute(query)\n",
    "    cur.close()\n",
    "    if conn.is_connected():\n",
    "        conn.close()\n",
    "\n",
    "dataframe1 = pd.read_csv(\"Particular_Sub_Categary.csv\")\n",
    "DataframeToSql2(dataframe1)\n",
    "print(dataframe1)\n",
    "print(\"successful\")"
   ]
  },
  {
   "cell_type": "code",
   "execution_count": null,
   "id": "c30b26f9",
   "metadata": {},
   "outputs": [],
   "source": [
    "def DataframeToSql3(dataframe2):\n",
    "    \n",
    "    conn = mysql.connector.connect(host=\"localhost\", user=\"root\", password=\"subho\", database=\"web_scraping\", charset=\"utf8\")\n",
    "    cur = conn.cursor()\n",
    "    conn.cursor(\"select * from Particular_sub_categary\")\n",
    "    conn.commit() \n",
    "    for (row,rs) in dataframe2.iterrows():\n",
    "        Catagories = rs[0]\n",
    "        Job_Positions = str(rs[1])\n",
    "        Company_Offering_Job = str(rs[2])\n",
    "        Company_Name = rs[3]\n",
    "        Location_Name = rs[4]\n",
    "        State = rs[5]\n",
    "        Job_Discription = rs[6]\n",
    "        Company_Discription = rs[7]\n",
    "        Employee = str(rs[8])\n",
    "        Company_Location = rs[9]\n",
    "        query = \"insert into Particular_Job_and_its_details values(\"+Catagories+\",\"+Job_Positions+\",\"+Company_Offering_Job+\",\"+Company_Name+\",\"+Location_Name+\",\"+State+\",\"+Job_Discription+\",\"+Company_Discription+\",\"+Employee+\",\"+Company_Location+\")\"\n",
    "        cur.execute(query)\n",
    "    cur.close()\n",
    "    if conn.is_connected():\n",
    "        conn.close()\n",
    "\n",
    "dataframe2 = pd.read_csv(\"Particular_Job_and_its_details.csv\")\n",
    "DataframeToSql3(dataframe2)\n",
    "print(\"successful\")"
   ]
  },
  {
   "cell_type": "code",
   "execution_count": null,
   "id": "2a3ea771",
   "metadata": {},
   "outputs": [],
   "source": [
    "conn = mysql.connector.connect(host=\"localhost\", user=\"root\", password=\"subho\", database=\"web_scraping\", charset=\"utf8\")\n",
    "cur = conn.cursor()\n",
    "cur.execute(\"SHOW TABLES\")\n",
    "for table_name in cur:\n",
    "   print(table_name)"
   ]
  },
  {
   "cell_type": "code",
   "execution_count": null,
   "id": "bb2b0ee7",
   "metadata": {},
   "outputs": [],
   "source": [
    "cur.execute(\"SELECT * FROM Catagories_and_Sub_Categories\")\n",
    "myresult = cur.fetchall()\n",
    "for table in myresult:\n",
    "   print(table)"
   ]
  },
  {
   "cell_type": "code",
   "execution_count": null,
   "id": "5004f23b",
   "metadata": {},
   "outputs": [],
   "source": [
    "cur.execute(\"SELECT * FROM Particular_Job_and_its_details\")\n",
    "myresult = cur.fetchall()\n",
    "for table in myresult:\n",
    "   print(table)"
   ]
  },
  {
   "cell_type": "code",
   "execution_count": null,
   "id": "7b5e801a",
   "metadata": {},
   "outputs": [],
   "source": [
    "cur.execute(\"SELECT * FROM particular_job_and_its_details\")\n",
    "myresult = cur.fetchall()\n",
    "for table in myresult:\n",
    "   print(table)"
   ]
  }
 ],
 "metadata": {
  "kernelspec": {
   "display_name": "Python 3 (ipykernel)",
   "language": "python",
   "name": "python3"
  },
  "language_info": {
   "codemirror_mode": {
    "name": "ipython",
    "version": 3
   },
   "file_extension": ".py",
   "mimetype": "text/x-python",
   "name": "python",
   "nbconvert_exporter": "python",
   "pygments_lexer": "ipython3",
   "version": "3.8.8"
  }
 },
 "nbformat": 4,
 "nbformat_minor": 5
}
